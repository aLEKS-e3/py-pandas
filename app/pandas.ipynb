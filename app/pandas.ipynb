{
 "cells": [
  {
   "cell_type": "markdown",
   "source": [
    "# Pandas"
   ],
   "metadata": {
    "collapsed": false
   }
  },
  {
   "cell_type": "markdown",
   "source": [
    "## Task 1\n",
    "\n",
    "You should import the necessary libraries. You will use `numpy` and `pandas` libraries.\n",
    "\n",
    "\n",
    "> Don't forget to import `numpy`, and `pandas` in short form."
   ],
   "metadata": {
    "collapsed": false
   }
  },
  {
   "cell_type": "code",
   "metadata": {
    "collapsed": true,
    "ExecuteTime": {
     "end_time": "2024-04-24T09:26:52.790240Z",
     "start_time": "2024-04-24T09:26:52.780169Z"
    }
   },
   "source": [
    "import numpy as np\n",
    "import pandas as pd\n",
    "from datetime import datetime"
   ],
   "outputs": [],
   "execution_count": 5
  },
  {
   "cell_type": "markdown",
   "source": [
    "## Task 2\n",
    "\n",
    "Create a `DataFrame` from the given dictionary `data`."
   ],
   "metadata": {
    "collapsed": false
   }
  },
  {
   "cell_type": "code",
   "source": [
    "data = {\n",
    "    \"Name\": [\"John\", \"Emily\", \"Ryan\"],\n",
    "    \"Age\": [16, 28, 22],\n",
    "    \"City\": [\"New York\", \"Los Angeles\", \"Chicago\"],\n",
    "}\n",
    "\n",
    "df = pd.DataFrame(data)"
   ],
   "metadata": {
    "collapsed": false,
    "ExecuteTime": {
     "end_time": "2024-04-24T09:26:53.336329Z",
     "start_time": "2024-04-24T09:26:53.325897Z"
    }
   },
   "outputs": [],
   "execution_count": 6
  },
  {
   "cell_type": "markdown",
   "source": [
    "## Task 3\n",
    "\n",
    "In this task you should complete the following steps:"
   ],
   "metadata": {
    "collapsed": false
   }
  },
  {
   "cell_type": "markdown",
   "source": [
    "### Task 3.1\n",
    "Display all data for `Age` column for the DataFrame you created in the previous task."
   ],
   "metadata": {
    "collapsed": false
   }
  },
  {
   "cell_type": "code",
   "source": "df[\"Age\"]",
   "metadata": {
    "collapsed": false,
    "ExecuteTime": {
     "end_time": "2024-04-24T09:26:53.407881Z",
     "start_time": "2024-04-24T09:26:53.394829Z"
    }
   },
   "outputs": [
    {
     "data": {
      "text/plain": [
       "0    16\n",
       "1    28\n",
       "2    22\n",
       "Name: Age, dtype: int64"
      ]
     },
     "execution_count": 7,
     "metadata": {},
     "output_type": "execute_result"
    }
   ],
   "execution_count": 7
  },
  {
   "cell_type": "markdown",
   "source": [
    "### Task 3.2\n",
    "\n",
    "Add `Salary` column to the `DataFrame` with the values `[50000, 60000, 45000]`."
   ],
   "metadata": {
    "collapsed": false
   }
  },
  {
   "cell_type": "code",
   "source": "df[\"Salary\"] = [50000, 60000, 45000]",
   "metadata": {
    "collapsed": false,
    "ExecuteTime": {
     "end_time": "2024-04-24T09:26:53.524246Z",
     "start_time": "2024-04-24T09:26:53.512044Z"
    }
   },
   "outputs": [],
   "execution_count": 8
  },
  {
   "cell_type": "markdown",
   "source": [
    "### Task 3.3\n",
    "\n",
    "Filter the `DataFrame` to show only the rows with the `Age` greater than 18."
   ],
   "metadata": {
    "collapsed": false
   }
  },
  {
   "cell_type": "code",
   "source": [
    "mask = df[\"Age\"] > 18\n",
    "df[mask]"
   ],
   "metadata": {
    "collapsed": false,
    "ExecuteTime": {
     "end_time": "2024-04-24T09:26:53.616319Z",
     "start_time": "2024-04-24T09:26:53.590830Z"
    }
   },
   "outputs": [
    {
     "data": {
      "text/plain": [
       "    Name  Age         City  Salary\n",
       "1  Emily   28  Los Angeles   60000\n",
       "2   Ryan   22      Chicago   45000"
      ],
      "text/html": [
       "<div>\n",
       "<style scoped>\n",
       "    .dataframe tbody tr th:only-of-type {\n",
       "        vertical-align: middle;\n",
       "    }\n",
       "\n",
       "    .dataframe tbody tr th {\n",
       "        vertical-align: top;\n",
       "    }\n",
       "\n",
       "    .dataframe thead th {\n",
       "        text-align: right;\n",
       "    }\n",
       "</style>\n",
       "<table border=\"1\" class=\"dataframe\">\n",
       "  <thead>\n",
       "    <tr style=\"text-align: right;\">\n",
       "      <th></th>\n",
       "      <th>Name</th>\n",
       "      <th>Age</th>\n",
       "      <th>City</th>\n",
       "      <th>Salary</th>\n",
       "    </tr>\n",
       "  </thead>\n",
       "  <tbody>\n",
       "    <tr>\n",
       "      <th>1</th>\n",
       "      <td>Emily</td>\n",
       "      <td>28</td>\n",
       "      <td>Los Angeles</td>\n",
       "      <td>60000</td>\n",
       "    </tr>\n",
       "    <tr>\n",
       "      <th>2</th>\n",
       "      <td>Ryan</td>\n",
       "      <td>22</td>\n",
       "      <td>Chicago</td>\n",
       "      <td>45000</td>\n",
       "    </tr>\n",
       "  </tbody>\n",
       "</table>\n",
       "</div>"
      ]
     },
     "execution_count": 9,
     "metadata": {},
     "output_type": "execute_result"
    }
   ],
   "execution_count": 9
  },
  {
   "cell_type": "markdown",
   "source": [
    "## Task 4\n",
    "\n",
    "In this task you should complete the following steps:"
   ],
   "metadata": {
    "collapsed": false
   }
  },
  {
   "cell_type": "markdown",
   "source": [
    "### Task 4.1\n",
    "\n",
    "Add new calculated field `Birth year`;"
   ],
   "metadata": {
    "collapsed": false
   }
  },
  {
   "cell_type": "code",
   "source": "df[\"Birth year\"] = datetime.now().year - df[\"Age\"]",
   "metadata": {
    "collapsed": false,
    "ExecuteTime": {
     "end_time": "2024-04-24T09:26:53.803233Z",
     "start_time": "2024-04-24T09:26:53.793149Z"
    }
   },
   "outputs": [],
   "execution_count": 10
  },
  {
   "cell_type": "markdown",
   "source": [
    "### Task 4.2\n",
    "\n",
    "Add new calculated field `Average age`."
   ],
   "metadata": {
    "collapsed": false
   }
  },
  {
   "cell_type": "code",
   "source": "df[\"Average age\"] = np.mean(df[\"Age\"])",
   "metadata": {
    "collapsed": false,
    "ExecuteTime": {
     "end_time": "2024-04-24T09:26:53.934623Z",
     "start_time": "2024-04-24T09:26:53.929549Z"
    }
   },
   "outputs": [],
   "execution_count": 11
  },
  {
   "cell_type": "markdown",
   "source": [
    "### Task 4.3\n",
    "\n",
    "Calculate absolute difference between `Age` and `Average age`."
   ],
   "metadata": {
    "collapsed": false
   }
  },
  {
   "cell_type": "code",
   "source": "diff = np.abs(df[\"Average age\"] - df[\"Age\"])",
   "metadata": {
    "collapsed": false,
    "ExecuteTime": {
     "end_time": "2024-04-24T09:26:54.073264Z",
     "start_time": "2024-04-24T09:26:54.068557Z"
    }
   },
   "outputs": [],
   "execution_count": 12
  },
  {
   "cell_type": "markdown",
   "source": [
    "## Task 5\n",
    "\n",
    "Complete the following tasks described below."
   ],
   "metadata": {
    "collapsed": false
   }
  },
  {
   "cell_type": "markdown",
   "source": [
    "### Task 5.1\n",
    "\n",
    "You have two dictionaries `data1` and `data2`. Create two `DataFrame` objects from these dictionaries. Then, `concatenate`, and `merge` these two `DataFrame` objects into one `DataFrame` object, and see the difference."
   ],
   "metadata": {
    "collapsed": false
   }
  },
  {
   "cell_type": "code",
   "source": [
    "# Data\n",
    "data1 = {'Name': ['John', 'Emily', 'Ryan'],\n",
    "         'Age': [25, 28, 22]}\n",
    "data2 = {'Name': ['Emily', 'Ryan', 'Mike'],\n",
    "         'City': ['Los Angeles', 'Chicago', 'Houston']}\n",
    "\n",
    "df1 = pd.DataFrame(data1)\n",
    "df2 = pd.DataFrame(data2)"
   ],
   "metadata": {
    "collapsed": false,
    "ExecuteTime": {
     "end_time": "2024-04-24T09:26:54.372460Z",
     "start_time": "2024-04-24T09:26:54.364642Z"
    }
   },
   "outputs": [],
   "execution_count": 13
  },
  {
   "cell_type": "code",
   "source": "pd.merge(df1, df2, on=\"Name\", how=\"outer\")",
   "metadata": {
    "collapsed": false,
    "ExecuteTime": {
     "end_time": "2024-04-24T09:26:54.506747Z",
     "start_time": "2024-04-24T09:26:54.474071Z"
    }
   },
   "outputs": [
    {
     "data": {
      "text/plain": [
       "    Name   Age         City\n",
       "0  Emily  28.0  Los Angeles\n",
       "1   John  25.0          NaN\n",
       "2   Mike   NaN      Houston\n",
       "3   Ryan  22.0      Chicago"
      ],
      "text/html": [
       "<div>\n",
       "<style scoped>\n",
       "    .dataframe tbody tr th:only-of-type {\n",
       "        vertical-align: middle;\n",
       "    }\n",
       "\n",
       "    .dataframe tbody tr th {\n",
       "        vertical-align: top;\n",
       "    }\n",
       "\n",
       "    .dataframe thead th {\n",
       "        text-align: right;\n",
       "    }\n",
       "</style>\n",
       "<table border=\"1\" class=\"dataframe\">\n",
       "  <thead>\n",
       "    <tr style=\"text-align: right;\">\n",
       "      <th></th>\n",
       "      <th>Name</th>\n",
       "      <th>Age</th>\n",
       "      <th>City</th>\n",
       "    </tr>\n",
       "  </thead>\n",
       "  <tbody>\n",
       "    <tr>\n",
       "      <th>0</th>\n",
       "      <td>Emily</td>\n",
       "      <td>28.0</td>\n",
       "      <td>Los Angeles</td>\n",
       "    </tr>\n",
       "    <tr>\n",
       "      <th>1</th>\n",
       "      <td>John</td>\n",
       "      <td>25.0</td>\n",
       "      <td>NaN</td>\n",
       "    </tr>\n",
       "    <tr>\n",
       "      <th>2</th>\n",
       "      <td>Mike</td>\n",
       "      <td>NaN</td>\n",
       "      <td>Houston</td>\n",
       "    </tr>\n",
       "    <tr>\n",
       "      <th>3</th>\n",
       "      <td>Ryan</td>\n",
       "      <td>22.0</td>\n",
       "      <td>Chicago</td>\n",
       "    </tr>\n",
       "  </tbody>\n",
       "</table>\n",
       "</div>"
      ]
     },
     "execution_count": 14,
     "metadata": {},
     "output_type": "execute_result"
    }
   ],
   "execution_count": 14
  },
  {
   "cell_type": "code",
   "source": "pd.concat([df1, df2])",
   "metadata": {
    "collapsed": false,
    "ExecuteTime": {
     "end_time": "2024-04-24T09:26:54.668650Z",
     "start_time": "2024-04-24T09:26:54.643407Z"
    }
   },
   "outputs": [
    {
     "data": {
      "text/plain": [
       "    Name   Age         City\n",
       "0   John  25.0          NaN\n",
       "1  Emily  28.0          NaN\n",
       "2   Ryan  22.0          NaN\n",
       "0  Emily   NaN  Los Angeles\n",
       "1   Ryan   NaN      Chicago\n",
       "2   Mike   NaN      Houston"
      ],
      "text/html": [
       "<div>\n",
       "<style scoped>\n",
       "    .dataframe tbody tr th:only-of-type {\n",
       "        vertical-align: middle;\n",
       "    }\n",
       "\n",
       "    .dataframe tbody tr th {\n",
       "        vertical-align: top;\n",
       "    }\n",
       "\n",
       "    .dataframe thead th {\n",
       "        text-align: right;\n",
       "    }\n",
       "</style>\n",
       "<table border=\"1\" class=\"dataframe\">\n",
       "  <thead>\n",
       "    <tr style=\"text-align: right;\">\n",
       "      <th></th>\n",
       "      <th>Name</th>\n",
       "      <th>Age</th>\n",
       "      <th>City</th>\n",
       "    </tr>\n",
       "  </thead>\n",
       "  <tbody>\n",
       "    <tr>\n",
       "      <th>0</th>\n",
       "      <td>John</td>\n",
       "      <td>25.0</td>\n",
       "      <td>NaN</td>\n",
       "    </tr>\n",
       "    <tr>\n",
       "      <th>1</th>\n",
       "      <td>Emily</td>\n",
       "      <td>28.0</td>\n",
       "      <td>NaN</td>\n",
       "    </tr>\n",
       "    <tr>\n",
       "      <th>2</th>\n",
       "      <td>Ryan</td>\n",
       "      <td>22.0</td>\n",
       "      <td>NaN</td>\n",
       "    </tr>\n",
       "    <tr>\n",
       "      <th>0</th>\n",
       "      <td>Emily</td>\n",
       "      <td>NaN</td>\n",
       "      <td>Los Angeles</td>\n",
       "    </tr>\n",
       "    <tr>\n",
       "      <th>1</th>\n",
       "      <td>Ryan</td>\n",
       "      <td>NaN</td>\n",
       "      <td>Chicago</td>\n",
       "    </tr>\n",
       "    <tr>\n",
       "      <th>2</th>\n",
       "      <td>Mike</td>\n",
       "      <td>NaN</td>\n",
       "      <td>Houston</td>\n",
       "    </tr>\n",
       "  </tbody>\n",
       "</table>\n",
       "</div>"
      ]
     },
     "execution_count": 15,
     "metadata": {},
     "output_type": "execute_result"
    }
   ],
   "execution_count": 15
  },
  {
   "cell_type": "markdown",
   "source": [
    "### Task 5.2\n",
    "\n",
    "You have two `Series` objects `s1` and `s2`. Make default mathematical operations on these two `Series` objects. Such as `+`, `-`, `*`, `/`, `**`, `//`, `%`. Also, filter `s1` and print only even numbers, and `s2` only with odd numbers.\n"
   ],
   "metadata": {
    "collapsed": false
   }
  },
  {
   "cell_type": "code",
   "source": [
    "s1 = pd.Series([1, 2, 3, 4, 5])\n",
    "s2 = pd.Series([6, 7, 8, 9, 10])"
   ],
   "metadata": {
    "collapsed": false,
    "ExecuteTime": {
     "end_time": "2024-04-24T09:26:54.729894Z",
     "start_time": "2024-04-24T09:26:54.724973Z"
    }
   },
   "outputs": [],
   "execution_count": 16
  },
  {
   "cell_type": "code",
   "source": "s1 + s2",
   "metadata": {
    "collapsed": false,
    "ExecuteTime": {
     "end_time": "2024-04-24T09:26:54.992558Z",
     "start_time": "2024-04-24T09:26:54.981517Z"
    }
   },
   "outputs": [
    {
     "data": {
      "text/plain": [
       "0     7\n",
       "1     9\n",
       "2    11\n",
       "3    13\n",
       "4    15\n",
       "dtype: int64"
      ]
     },
     "execution_count": 17,
     "metadata": {},
     "output_type": "execute_result"
    }
   ],
   "execution_count": 17
  },
  {
   "cell_type": "code",
   "source": "s1 - s2",
   "metadata": {
    "collapsed": false,
    "ExecuteTime": {
     "end_time": "2024-04-24T09:26:55.270188Z",
     "start_time": "2024-04-24T09:26:55.261474Z"
    }
   },
   "outputs": [
    {
     "data": {
      "text/plain": [
       "0   -5\n",
       "1   -5\n",
       "2   -5\n",
       "3   -5\n",
       "4   -5\n",
       "dtype: int64"
      ]
     },
     "execution_count": 18,
     "metadata": {},
     "output_type": "execute_result"
    }
   ],
   "execution_count": 18
  },
  {
   "cell_type": "code",
   "source": "s1 * s2",
   "metadata": {
    "collapsed": false,
    "ExecuteTime": {
     "end_time": "2024-04-24T09:26:55.499461Z",
     "start_time": "2024-04-24T09:26:55.490321Z"
    }
   },
   "outputs": [
    {
     "data": {
      "text/plain": [
       "0     6\n",
       "1    14\n",
       "2    24\n",
       "3    36\n",
       "4    50\n",
       "dtype: int64"
      ]
     },
     "execution_count": 19,
     "metadata": {},
     "output_type": "execute_result"
    }
   ],
   "execution_count": 19
  },
  {
   "cell_type": "code",
   "source": "s1 / s2",
   "metadata": {
    "collapsed": false,
    "ExecuteTime": {
     "end_time": "2024-04-24T09:26:55.948973Z",
     "start_time": "2024-04-24T09:26:55.938014Z"
    }
   },
   "outputs": [
    {
     "data": {
      "text/plain": [
       "0    0.166667\n",
       "1    0.285714\n",
       "2    0.375000\n",
       "3    0.444444\n",
       "4    0.500000\n",
       "dtype: float64"
      ]
     },
     "execution_count": 20,
     "metadata": {},
     "output_type": "execute_result"
    }
   ],
   "execution_count": 20
  },
  {
   "cell_type": "code",
   "source": "s1 ** s2",
   "metadata": {
    "collapsed": false,
    "ExecuteTime": {
     "end_time": "2024-04-24T09:26:56.183957Z",
     "start_time": "2024-04-24T09:26:56.173554Z"
    }
   },
   "outputs": [
    {
     "data": {
      "text/plain": [
       "0          1\n",
       "1        128\n",
       "2       6561\n",
       "3     262144\n",
       "4    9765625\n",
       "dtype: int64"
      ]
     },
     "execution_count": 21,
     "metadata": {},
     "output_type": "execute_result"
    }
   ],
   "execution_count": 21
  },
  {
   "cell_type": "code",
   "source": "s2 // s1",
   "metadata": {
    "collapsed": false,
    "ExecuteTime": {
     "end_time": "2024-04-24T09:26:56.410932Z",
     "start_time": "2024-04-24T09:26:56.399132Z"
    }
   },
   "outputs": [
    {
     "data": {
      "text/plain": [
       "0    6\n",
       "1    3\n",
       "2    2\n",
       "3    2\n",
       "4    2\n",
       "dtype: int64"
      ]
     },
     "execution_count": 22,
     "metadata": {},
     "output_type": "execute_result"
    }
   ],
   "execution_count": 22
  },
  {
   "cell_type": "code",
   "source": "s2 % s1",
   "metadata": {
    "collapsed": false,
    "ExecuteTime": {
     "end_time": "2024-04-24T09:26:56.510918Z",
     "start_time": "2024-04-24T09:26:56.501287Z"
    }
   },
   "outputs": [
    {
     "data": {
      "text/plain": [
       "0    0\n",
       "1    1\n",
       "2    2\n",
       "3    1\n",
       "4    0\n",
       "dtype: int64"
      ]
     },
     "execution_count": 23,
     "metadata": {},
     "output_type": "execute_result"
    }
   ],
   "execution_count": 23
  },
  {
   "cell_type": "code",
   "source": [
    "mask = s1 % 2 == 0\n",
    "s1[mask]"
   ],
   "metadata": {
    "collapsed": false,
    "ExecuteTime": {
     "end_time": "2024-04-24T09:26:56.665391Z",
     "start_time": "2024-04-24T09:26:56.656684Z"
    }
   },
   "outputs": [
    {
     "data": {
      "text/plain": [
       "1    2\n",
       "3    4\n",
       "dtype: int64"
      ]
     },
     "execution_count": 24,
     "metadata": {},
     "output_type": "execute_result"
    }
   ],
   "execution_count": 24
  },
  {
   "cell_type": "code",
   "source": [
    "mask = s2 % 2 != 0\n",
    "s2[mask]"
   ],
   "metadata": {
    "collapsed": false,
    "ExecuteTime": {
     "end_time": "2024-04-24T09:26:56.775537Z",
     "start_time": "2024-04-24T09:26:56.760794Z"
    }
   },
   "outputs": [
    {
     "data": {
      "text/plain": [
       "1    7\n",
       "3    9\n",
       "dtype: int64"
      ]
     },
     "execution_count": 25,
     "metadata": {},
     "output_type": "execute_result"
    }
   ],
   "execution_count": 25
  },
  {
   "cell_type": "markdown",
   "source": [
    "### Task 5.3\n",
    "\n",
    "You have a `Serias` object `s`. Make the following operations on this `Series` object:\n",
    "\n",
    "* make all words in uppercase without loops;\n",
    "* get length of each word without loops.\n"
   ],
   "metadata": {
    "collapsed": false
   }
  },
  {
   "cell_type": "code",
   "source": [
    "s = pd.Series([\"numpy\", \"pandas\", \"matplotlib\"])"
   ],
   "metadata": {
    "collapsed": false,
    "ExecuteTime": {
     "end_time": "2024-04-24T09:26:56.946573Z",
     "start_time": "2024-04-24T09:26:56.940327Z"
    }
   },
   "outputs": [],
   "execution_count": 26
  },
  {
   "cell_type": "code",
   "source": "s.str.upper()",
   "metadata": {
    "collapsed": false,
    "ExecuteTime": {
     "end_time": "2024-04-24T09:26:57.072867Z",
     "start_time": "2024-04-24T09:26:57.058760Z"
    }
   },
   "outputs": [
    {
     "data": {
      "text/plain": [
       "0         NUMPY\n",
       "1        PANDAS\n",
       "2    MATPLOTLIB\n",
       "dtype: object"
      ]
     },
     "execution_count": 27,
     "metadata": {},
     "output_type": "execute_result"
    }
   ],
   "execution_count": 27
  },
  {
   "cell_type": "code",
   "source": "s.str.len()",
   "metadata": {
    "collapsed": false,
    "ExecuteTime": {
     "end_time": "2024-04-24T09:26:57.291661Z",
     "start_time": "2024-04-24T09:26:57.281967Z"
    }
   },
   "outputs": [
    {
     "data": {
      "text/plain": [
       "0     5\n",
       "1     6\n",
       "2    10\n",
       "dtype: int64"
      ]
     },
     "execution_count": 28,
     "metadata": {},
     "output_type": "execute_result"
    }
   ],
   "execution_count": 28
  },
  {
   "cell_type": "markdown",
   "source": [
    "## Task 6 Optional\n",
    "\n",
    "You have a large dataset consisting of a series of numbers. Your task is to calculate the moving average of the series using a window of `5` elements. The moving average is the average of a set of consecutive values in the series, where the window `slides` through the series to compute the average at each position. The goal is to calculate the moving average efficiently and accurately. Also, compare time performance of Python and Pandas solutions.\n",
    "\n",
    "> Please, note: If you get `nan` while calculating the moving average, you should remove it from the result. Pandas solution should take 1-2 lines of code.\n"
   ],
   "metadata": {
    "collapsed": false
   }
  },
  {
   "cell_type": "markdown",
   "source": [
    "### Python Solution\n",
    "\n",
    "In the Python solution, a large dataset is generated using random numbers. The moving average is computed by iterating over the dataset using a loop. At each position, a window of 5 elements is created, and the average is calculated by summing the values in the window and dividing by 5."
   ],
   "metadata": {
    "collapsed": false
   }
  },
  {
   "cell_type": "code",
   "source": [
    "import random\n",
    "\n",
    "def unknown_signature():\n",
    "    # Generate a large dataset\n",
    "    data = [random.randint(1, 100) for _ in range(10000000)]\n",
    "\n",
    "    # Calculate the moving average with a window of 5\n",
    "    moving_averages = []\n",
    "    for i in range(4, len(data)):\n",
    "        window = data[i - 4 : i + 1]\n",
    "        average = sum(window) / 5\n",
    "        moving_averages.append(average)\n",
    "    return moving_averages[:10]\n",
    "\n",
    "%time unknown_signature()"
   ],
   "metadata": {
    "collapsed": false,
    "ExecuteTime": {
     "end_time": "2024-04-24T09:27:10.815466Z",
     "start_time": "2024-04-24T09:26:57.501773Z"
    }
   },
   "outputs": [
    {
     "name": "stdout",
     "output_type": "stream",
     "text": [
      "CPU times: user 12.7 s, sys: 387 ms, total: 13.1 s\n",
      "Wall time: 13.3 s\n"
     ]
    },
    {
     "data": {
      "text/plain": [
       "[65.2, 72.4, 64.0, 55.6, 49.4, 39.6, 40.0, 48.6, 43.6, 43.8]"
      ]
     },
     "execution_count": 29,
     "metadata": {},
     "output_type": "execute_result"
    }
   ],
   "execution_count": 29
  },
  {
   "cell_type": "markdown",
   "source": [
    "### Solution using Pandas and Numpy\n"
   ],
   "metadata": {
    "collapsed": false
   }
  },
  {
   "cell_type": "code",
   "source": [
    "def unknown_signature():\n",
    "    data = pd.Series(np.random.randint(1, 100, size=10000000))\n",
    "    return data.rolling(window=5, min_periods=0).mean()\n",
    "\n",
    "%time unknown_signature()"
   ],
   "metadata": {
    "collapsed": false,
    "ExecuteTime": {
     "end_time": "2024-04-24T09:27:12.584481Z",
     "start_time": "2024-04-24T09:27:10.826327Z"
    }
   },
   "outputs": [
    {
     "name": "stdout",
     "output_type": "stream",
     "text": [
      "CPU times: user 621 ms, sys: 1.11 s, total: 1.74 s\n",
      "Wall time: 1.75 s\n"
     ]
    },
    {
     "data": {
      "text/plain": [
       "0          61.000000\n",
       "1          65.500000\n",
       "2          70.333333\n",
       "3          77.500000\n",
       "4          72.800000\n",
       "             ...    \n",
       "9999995    57.200000\n",
       "9999996    47.800000\n",
       "9999997    59.400000\n",
       "9999998    62.000000\n",
       "9999999    74.600000\n",
       "Length: 10000000, dtype: float64"
      ]
     },
     "execution_count": 30,
     "metadata": {},
     "output_type": "execute_result"
    }
   ],
   "execution_count": 30
  }
 ],
 "metadata": {
  "kernelspec": {
   "display_name": "Python 3",
   "language": "python",
   "name": "python3"
  },
  "language_info": {
   "codemirror_mode": {
    "name": "ipython",
    "version": 2
   },
   "file_extension": ".py",
   "mimetype": "text/x-python",
   "name": "python",
   "nbconvert_exporter": "python",
   "pygments_lexer": "ipython2",
   "version": "2.7.6"
  }
 },
 "nbformat": 4,
 "nbformat_minor": 0
}
